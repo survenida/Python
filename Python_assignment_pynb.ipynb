{
  "nbformat": 4,
  "nbformat_minor": 0,
  "metadata": {
    "colab": {
      "provenance": []
    },
    "kernelspec": {
      "name": "python3",
      "display_name": "Python 3"
    },
    "language_info": {
      "name": "python"
    }
  },
  "cells": [
    {
      "cell_type": "markdown",
      "source": [
        "Theory Questions\n",
        "\n",
        "PW - ASSIGNMENT\n",
        "\n",
        "Q1] What is Python, and why is it popular?\n",
        "\n",
        "Python is a high-level, easy-to-read programming language. It’s popular because it’s beginner-friendly, versatile, and has strong community support.\n",
        "\n",
        "Q2] What is an interpreter in Python?\n",
        "\n",
        "An interpreter runs Python code line by line, translating it into machine language.\n",
        "\n",
        "Q3]  What are pre-defined keywords in Python?\n",
        "\n",
        "Keywords are reserved words like if, for, True, None that have special meaning in Python.\n",
        "\n",
        "Q4] Can keywords be used as variable names?\n",
        "\n",
        "No, keywords cannot be used as variable names—they’re reserved by Python.\n",
        "\n",
        "Q5] What is mutability in Python?\n",
        "\n",
        "Mutability means an object can be changed after it’s created.\n",
        "\n",
        "Q6]  Why are lists mutable, but tuples are immutable?\n",
        "\n",
        "Lists allow changes (add/remove items), while tuples are fixed and cannot be modified.\n",
        "\n",
        "Q7] What is the difference between == and is operators in Python?\n",
        "\n",
        "● == checks if values are equal.\n",
        "\n",
        "● is checks if two variables point to the same object in memory.\n",
        "\n",
        "Q8] What are logical operators in Python?\n",
        "\n",
        "Logical operators are:\n",
        "\n",
        "● and: both conditions must be true\n",
        "\n",
        "● or: at least one condition must be true\n",
        "\n",
        "● not: reverses the condition\n",
        "\n",
        "Q9]  What is type casting in Python?\n",
        "\n",
        "Type casting means converting one data type into another, like int(\"5\").\n",
        "\n",
        "Q10] Difference between implicit and explicit type casting?\n",
        "\n",
        " ● Implicit: Python converts automatically e.g int + float will give output as float value\n",
        "\n",
        " ● Explicit: You manually convert using functions like int(), str()\n",
        "\n",
        "Q11] Purpose of conditional statements in Python?\n",
        "\n",
        "They let you make decisions in code using conditions (if, else, etc.).\n",
        "\n",
        "Q12] How does the elif statement work?\n",
        "\n",
        "elif means “else if”: it checks another condition if the previous if was false. Used to check multiple conditions .\n",
        "\n",
        "Q13] Difference between for and while loops?\n",
        "\n",
        "● for: used when you know how many times to loop\n",
        "\n",
        "● while: used when looping depends on a condition\n",
        "\n",
        "Q14] Scenario where a while loop is better than a for loop?\n",
        "\n",
        "When waiting for user input like \"exit\" or checking a sensor until it reaches a value—because you don’t know how many times it’ll run.\n"
      ],
      "metadata": {
        "id": "Nk4yRupZPn50"
      }
    },
    {
      "cell_type": "code",
      "execution_count": null,
      "metadata": {
        "colab": {
          "base_uri": "https://localhost:8080/"
        },
        "id": "T7WMZScpmala",
        "outputId": "3777630b-26ba-45f2-f03a-c959c0fcef1c"
      },
      "outputs": [
        {
          "output_type": "stream",
          "name": "stdout",
          "text": [
            "Hello, World!\n"
          ]
        }
      ],
      "source": [
        "# Question 1\n",
        "# Write a Python program to print \"Hello, World\"\n",
        "print(\"Hello, World!\")"
      ]
    },
    {
      "cell_type": "code",
      "source": [
        "#Question2\n",
        "#  Write a Python program that displays your name and age.\n",
        "age = int(input(\"Enter your age\"))\n",
        "name =str(input(\"Enter your name\"))\n",
        "print(\"Name:\", name , \"\\nAge:\", age)"
      ],
      "metadata": {
        "colab": {
          "base_uri": "https://localhost:8080/"
        },
        "id": "TFnX9irOm7md",
        "outputId": "13829d37-2524-4f38-a8af-02d6ce3f21d5"
      },
      "execution_count": null,
      "outputs": [
        {
          "output_type": "stream",
          "name": "stdout",
          "text": [
            "Enter your age20\n",
            "Enter your nameNida Surve\n",
            "Name: Nida Surve \n",
            "Age: 20\n"
          ]
        }
      ]
    },
    {
      "cell_type": "code",
      "source": [
        "#Question 3\n",
        "#  Write code to print all the pre-defined keywords in Python using the keyword library.\n",
        "import keyword\n",
        "print(\"List of Python keywords:\")\n",
        "for kw in keyword.kwlist:\n",
        "    print(kw)\n"
      ],
      "metadata": {
        "colab": {
          "base_uri": "https://localhost:8080/"
        },
        "id": "b9V33qG1or3m",
        "outputId": "6d98107e-847b-4ae1-92e6-6094fd09e68d"
      },
      "execution_count": null,
      "outputs": [
        {
          "output_type": "stream",
          "name": "stdout",
          "text": [
            "List of Python keywords:\n",
            "False\n",
            "None\n",
            "True\n",
            "and\n",
            "as\n",
            "assert\n",
            "async\n",
            "await\n",
            "break\n",
            "class\n",
            "continue\n",
            "def\n",
            "del\n",
            "elif\n",
            "else\n",
            "except\n",
            "finally\n",
            "for\n",
            "from\n",
            "global\n",
            "if\n",
            "import\n",
            "in\n",
            "is\n",
            "lambda\n",
            "nonlocal\n",
            "not\n",
            "or\n",
            "pass\n",
            "raise\n",
            "return\n",
            "try\n",
            "while\n",
            "with\n",
            "yield\n"
          ]
        }
      ]
    },
    {
      "cell_type": "code",
      "source": [
        "#Question 4\n",
        "#Write a program that checks if a given word is a Python keyword.\n",
        "import keyword\n",
        "word = input(\"Enter a word to check: \")\n",
        "if keyword.iskeyword(word):\n",
        "    print(f\" '{word}' is a Python keyword.\")\n",
        "else:\n",
        "    print(f\" '{word}' is NOT a Python keyword.\")\n"
      ],
      "metadata": {
        "colab": {
          "base_uri": "https://localhost:8080/"
        },
        "id": "uVWVlCq2peOF",
        "outputId": "77c01bcc-fee6-4797-e451-4d20c610e99b"
      },
      "execution_count": null,
      "outputs": [
        {
          "output_type": "stream",
          "name": "stdout",
          "text": [
            "Enter a word to check: lambda\n",
            " 'lambda' is a Python keyword.\n"
          ]
        }
      ]
    },
    {
      "cell_type": "code",
      "source": [
        "#Question 5\n",
        "#  Create a list and tuple in Python, and demonstrate how attempting to change an element works differently\n",
        "#  for each.\n",
        "my_list = [10, 20, 30]\n",
        "my_tuple = (10, 20, 30)\n",
        "my_list[1] = 40\n",
        "print(\"Modified list:\", my_list)\n",
        "# my_tuple[2] = 40 - will give error\n",
        "# print('Modified tuple:', my_tuple) will give error\n",
        "print(\"Original tuple (unchanged):\", my_tuple) #tuples cannot be changed\n"
      ],
      "metadata": {
        "colab": {
          "base_uri": "https://localhost:8080/"
        },
        "id": "7J4RqspAqRco",
        "outputId": "0dd1ee46-e1ea-4e71-f598-14184d5ce0ca"
      },
      "execution_count": null,
      "outputs": [
        {
          "output_type": "stream",
          "name": "stdout",
          "text": [
            "Modified list: [10, 40, 30]\n",
            "Original tuple (unchanged): (10, 20, 30)\n"
          ]
        }
      ]
    },
    {
      "cell_type": "code",
      "source": [
        "#Question 6\n",
        "# Write a function to demonstrate the behavior of mutable and immutable arguments\n",
        "def change_values(x, y):\n",
        "    x = x + 1\n",
        "    y.append(4)\n",
        "    print(\"Inside function:\")\n",
        "    print(\"x =\", x)\n",
        "    print(\"y =\", y)\n",
        "\n",
        "a = 5\n",
        "b = [1, 2, 3]\n",
        "\n",
        "change_values(a, b)\n",
        "\n",
        "print(\"\\nOutside function:\")\n",
        "print(\"a =\", a)\n",
        "print(\"b =\", b)\n"
      ],
      "metadata": {
        "colab": {
          "base_uri": "https://localhost:8080/"
        },
        "id": "YUKK5BjBsIm2",
        "outputId": "c4dc298e-24c4-475c-c5b0-67a4dc346efd"
      },
      "execution_count": null,
      "outputs": [
        {
          "output_type": "stream",
          "name": "stdout",
          "text": [
            "Inside function:\n",
            "x = 6\n",
            "y = [1, 2, 3, 4]\n",
            "\n",
            "Outside function:\n",
            "a = 5\n",
            "b = [1, 2, 3, 4]\n"
          ]
        }
      ]
    },
    {
      "cell_type": "code",
      "source": [
        "#Question 7\n",
        "#  Write a program that performs basic arithmetic operations on two user-input numbers.\n",
        "a = float(input(\"Enter first value:\"))\n",
        "b = float(input(\"Enter second value:\"))\n",
        "\n",
        "print(\"Choose the operation to be performed\")\n",
        "print(\"1] Addition\")\n",
        "print(\"2] Subtraction\")\n",
        "print(\"3] Multiplication\")\n",
        "print(\"4] Division\")\n",
        "print(\"5] Modular Division\")\n",
        "print(\"6] Floor Division\")\n",
        "print(\"7] Exponent Multiplication\")\n",
        "\n",
        "choice = int(input(\"Enter your choice (1-7): \"))\n",
        "\n",
        "match choice:\n",
        "  case 1 :\n",
        "    print(\"Addition\" , a+b)\n",
        "  case 2 :\n",
        "    print(\"Subtraction\" , a-b )\n",
        "    print(\"Subtraction\" , b-a )\n",
        "  case 3 :\n",
        "    print(\"Multiplication\" , a*b )\n",
        "  case 4:\n",
        "    if(b!=0):\n",
        "      print(\"Division\" , a/b)\n",
        "    else:\n",
        "      print(\"Division not possible by zero\")\n",
        "  case 5 :\n",
        "    if(b!=0):\n",
        "      print(\"modular division \" , a%b)\n",
        "    else:\n",
        "      print(\"modular division not possible by zero\")\n",
        "  case 6 :\n",
        "    if(b!=0):\n",
        "      print(\"Floor division\" , a//b)\n",
        "    else:\n",
        "      print(\"Floor division is not possible by zero\")\n",
        "  case 7 :\n",
        "    o = int(input(\"Enter the index \"))\n",
        "    print(\"a raised to o\" , a**o)\n",
        "    print(\"b raised to o\" , b**o)\n",
        "    print(\"a raised to b\" , a**b)\n",
        "    print(\"b raised to a\" , a**b)\n",
        "  case _:\n",
        "    print(\"invalid choice please try again\")"
      ],
      "metadata": {
        "colab": {
          "base_uri": "https://localhost:8080/"
        },
        "id": "KxCyiZiJs94P",
        "outputId": "dfa94df3-9fa5-482f-95c5-865d5530c8b3"
      },
      "execution_count": null,
      "outputs": [
        {
          "output_type": "stream",
          "name": "stdout",
          "text": [
            "Enter first value:237.657\n",
            "Enter second value:783.546\n",
            "Choose the operation to be performed\n",
            "1] Addition\n",
            "2] Subtraction\n",
            "3] Multiplication\n",
            "4] Division\n",
            "5] Modular Division\n",
            "6] Floor Division\n",
            "7] Exponent Multiplication\n",
            "Enter your choice (1-7): 1\n",
            "Addition 1021.2030000000001\n"
          ]
        }
      ]
    },
    {
      "cell_type": "code",
      "source": [
        "#Question 8\n",
        "# Write a program to demonstrate the use of logical operators.\n",
        "\n",
        "x = 10\n",
        "y = 5\n",
        "z = 15\n",
        "\n",
        "print(\"Logical AND:\")\n",
        "print(x > y and z > x)\n",
        "print(x > y and z < x)\n",
        "\n",
        "print(\"\\nLogical OR:\")\n",
        "print(x < y or z > x)\n",
        "print(x < y or z < x)\n",
        "\n",
        "print(\"\\nLogical NOT:\")\n",
        "print(not(x > y))\n",
        "print(not(x < y))\n"
      ],
      "metadata": {
        "colab": {
          "base_uri": "https://localhost:8080/"
        },
        "id": "2ck2442K3miI",
        "outputId": "b480063f-8213-40f6-ea23-1c320d4600ed"
      },
      "execution_count": null,
      "outputs": [
        {
          "output_type": "stream",
          "name": "stdout",
          "text": [
            "Logical AND:\n",
            "True\n",
            "False\n",
            "\n",
            "Logical OR:\n",
            "True\n",
            "False\n",
            "\n",
            "Logical NOT:\n",
            "False\n",
            "True\n"
          ]
        }
      ]
    },
    {
      "cell_type": "code",
      "source": [
        "#Question 9\n",
        "#  Write a Python program to convert user input from string to integer, float, and boolean types.\n",
        "user_input = input(\"Enter a value: \")\n",
        "\n",
        "if user_input.isdigit():\n",
        "    int_value = int(user_input)\n",
        "    print(\"Integer:\", int_value)\n",
        "\n",
        "    float_value = float(user_input)\n",
        "    print(\"Float:\", float_value)\n",
        "\n",
        "    bool_value = bool(user_input)\n",
        "    print(\"Boolean:\", bool_value)\n",
        "else:\n",
        "    print(\"Invalid input: Please enter a numeric string.\")\n"
      ],
      "metadata": {
        "colab": {
          "base_uri": "https://localhost:8080/"
        },
        "id": "V-gNzZR-7VAW",
        "outputId": "30290fbc-7b58-46b0-ac9b-3a0cd6c996a1"
      },
      "execution_count": null,
      "outputs": [
        {
          "output_type": "stream",
          "name": "stdout",
          "text": [
            "Enter a value: 123\n",
            "Integer: 123\n",
            "Float: 123.0\n",
            "Boolean: True\n"
          ]
        }
      ]
    },
    {
      "cell_type": "code",
      "source": [
        "#Question 10\n",
        "# Write code to demonstrate type casting with list elements.\n",
        "\n",
        "str_list = [\"10\", \"20\", \"0\", \"\", \"3.14\"]\n",
        "\n",
        "int_list = [int(x) for x in str_list if x.isdigit()]\n",
        "print(\"Integer list:\", int_list)\n",
        "\n",
        "float_list = [float(x) for x in str_list if x.replace('.', '', 1).isdigit()]\n",
        "print(\"Float list:\", float_list)\n",
        "\n",
        "bool_list = [bool(x) for x in str_list]\n",
        "print(\"Boolean list:\", bool_list)\n"
      ],
      "metadata": {
        "colab": {
          "base_uri": "https://localhost:8080/"
        },
        "id": "K4WqxlLA8XU4",
        "outputId": "2d7bc792-fc95-4467-8ef6-f5944371d5e9"
      },
      "execution_count": null,
      "outputs": [
        {
          "output_type": "stream",
          "name": "stdout",
          "text": [
            "Integer list: [10, 20, 0]\n",
            "Float list: [10.0, 20.0, 0.0, 3.14]\n",
            "Boolean list: [True, True, True, False, True]\n"
          ]
        }
      ]
    },
    {
      "cell_type": "code",
      "source": [
        "#Question 11\n",
        "# Write a program that checks if a number is positive, negative, or zero\n",
        "num = float(input(\"Enter a number\"))\n",
        "if(num>0):\n",
        "  print(num , \"is a positive number\")\n",
        "elif(num<0):\n",
        "  print(num , \"is a negative number\")\n",
        "else:\n",
        "  print(num , \"is zero\")\n"
      ],
      "metadata": {
        "colab": {
          "base_uri": "https://localhost:8080/"
        },
        "id": "cSAMhW3K87sS",
        "outputId": "ed94e67a-8a06-4a84-a4cc-fa9fdb84b149"
      },
      "execution_count": null,
      "outputs": [
        {
          "output_type": "stream",
          "name": "stdout",
          "text": [
            "Enter a number3.14\n",
            "3.14 is a positive number\n"
          ]
        }
      ]
    },
    {
      "cell_type": "code",
      "source": [
        "#Question 12\n",
        "# Write a for loop to print numbers from 1 to 10.\n",
        "for i in range(1, 11):\n",
        "    print(i)\n"
      ],
      "metadata": {
        "colab": {
          "base_uri": "https://localhost:8080/"
        },
        "id": "rC9f0cF99dIm",
        "outputId": "4abeedea-d37b-4ab0-a5b7-ea18294d50c9"
      },
      "execution_count": null,
      "outputs": [
        {
          "output_type": "stream",
          "name": "stdout",
          "text": [
            "1\n",
            "2\n",
            "3\n",
            "4\n",
            "5\n",
            "6\n",
            "7\n",
            "8\n",
            "9\n",
            "10\n"
          ]
        }
      ]
    },
    {
      "cell_type": "code",
      "source": [
        "#Question 13\n",
        "#  Write a Python program to find the sum of all even numbers between 1 and 50.\n",
        "total = 0\n",
        "\n",
        "for i in range(1, 51):\n",
        "    if i % 2 == 0:\n",
        "        total += i\n",
        "\n",
        "print(\"Sum of even numbers from 1 to 50 is:\", total)\n"
      ],
      "metadata": {
        "colab": {
          "base_uri": "https://localhost:8080/"
        },
        "id": "HM96-dcw9rJS",
        "outputId": "b102df67-95a3-4e3f-b461-00131f694b03"
      },
      "execution_count": null,
      "outputs": [
        {
          "output_type": "stream",
          "name": "stdout",
          "text": [
            "Sum of even numbers from 1 to 50 is: 650\n"
          ]
        }
      ]
    },
    {
      "cell_type": "code",
      "source": [
        "#Question 14\n",
        "#  Write a program to reverse a string using a while loop.\n",
        "text = input(\"Enter a string: \")\n",
        "\n",
        "reversed_text = \"\"\n",
        "index = len(text) - 1\n",
        "\n",
        "while index >= 0:\n",
        "    reversed_text += text[index]\n",
        "    index -= 1\n",
        "\n",
        "print(\"Reversed string:\", reversed_text)\n"
      ],
      "metadata": {
        "colab": {
          "base_uri": "https://localhost:8080/"
        },
        "id": "fd3L4gQ3-KdW",
        "outputId": "3635f3d1-fa00-4f6b-e3e8-475e1ea8dc01"
      },
      "execution_count": null,
      "outputs": [
        {
          "output_type": "stream",
          "name": "stdout",
          "text": [
            "Enter a string: malayalam\n",
            "Reversed string: malayalam\n"
          ]
        }
      ]
    },
    {
      "cell_type": "code",
      "source": [
        "#Question 15\n",
        "#  Write a Python program to calculate the factorial of a number provided by the user using a while loop.\n",
        "num = int(input(\"Enter a number: \"))\n",
        "\n",
        "factorial = 1\n",
        "i = 1\n",
        "\n",
        "while i <= num:\n",
        "    factorial *= i\n",
        "    i += 1\n",
        "\n",
        "print(f\"Factorial of {num} is:\", factorial)\n"
      ],
      "metadata": {
        "colab": {
          "base_uri": "https://localhost:8080/"
        },
        "id": "S15Ghqsh_laN",
        "outputId": "a6a2fae7-e8d6-4597-fa83-b0a5f690ff83"
      },
      "execution_count": null,
      "outputs": [
        {
          "output_type": "stream",
          "name": "stdout",
          "text": [
            "Enter a number: 5\n",
            "Factorial of 5 is: 120\n"
          ]
        }
      ]
    }
  ]
}