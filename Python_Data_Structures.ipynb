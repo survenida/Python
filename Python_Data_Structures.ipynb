{
  "nbformat": 4,
  "nbformat_minor": 0,
  "metadata": {
    "colab": {
      "provenance": [],
      "authorship_tag": "ABX9TyNDE8SH9+oHSSRG4NP8MQpT",
      "include_colab_link": true
    },
    "kernelspec": {
      "name": "python3",
      "display_name": "Python 3"
    },
    "language_info": {
      "name": "python"
    }
  },
  "cells": [
    {
      "cell_type": "markdown",
      "metadata": {
        "id": "view-in-github",
        "colab_type": "text"
      },
      "source": [
        "<a href=\"https://colab.research.google.com/github/survenida/Python/blob/main/Python_Data_Structures.ipynb\" target=\"_parent\"><img src=\"https://colab.research.google.com/assets/colab-badge.svg\" alt=\"Open In Colab\"/></a>"
      ]
    },
    {
      "cell_type": "markdown",
      "source": [
        "Question 1: What are data structures, and why are they important?\n",
        "\n",
        "Answer: Data structures organize and manage data efficiently. They help in storing, accessing, and processing data quickly.\n",
        "\n",
        "\n",
        "Question 2: Explain the difference between mutable and immutable data types with examples\n",
        "\n",
        "Answer:  \n",
        "Mutable: Can be changed (e.g., `list`, `dict`)  \n",
        "Immutable: Cannot be changed (e.g., `tuple`, `string`)\n",
        "\n",
        "\n",
        "Question 3: What are the main differences between lists and tuples in Python  \n",
        "\n",
        "Answer: Lists are mutable and slower; tuples are immutable and faster. Lists use more memory.\n",
        "\n",
        "\n",
        "Question 4: Describe how dictionaries store data.\n",
        "\n",
        "Answer: Dictionaries store data as key-value pairs using a hash table for fast access.\n",
        "\n",
        "\n",
        "Question 5: Why might you use a set instead of a list in Python?\n",
        "\n",
        "Answer: Sets remove duplicates automatically and offer faster membership checks.\n",
        "\n",
        "\n",
        "Question 6: What is a string in Python, and how is it different from a list?\n",
        "\n",
        "Answer: A string is a sequence of characters and is immutable. A list can hold different data types and is mutable.\n",
        "\n",
        "\n",
        "Question 7: How do tuples ensure data integrity in Python?  \n",
        "\n",
        "Answer: Tuples are immutable, so their values can't be changed accidentally.\n",
        "\n",
        "\n",
        "Question 8: What is a hash table, and how does it relate to dictionaries in Python?\n",
        "\n",
        "Answer: A hash table maps keys to values using a hash function. Python dictionaries use hash tables internally.\n",
        "\n",
        "\n",
        "Question 9: Can lists contain different data types in Python?\n",
        "\n",
        "Answer: Yes, lists can hold mixed data types like numbers, strings, and other lists.\n",
        "\n",
        "\n",
        "Question 10: Explain why strings are immutable in Python?  \n",
        "\n",
        "Answer: Strings are immutable to ensure consistency, security, and memory efficiency.\n",
        "\n",
        "\n",
        "Question 11: What advantages do dictionaries offer over lists for certain tasks?  \n",
        "\n",
        "Answer: Dictionaries allow fast access using keys and are better for storing structured data.\n",
        "\n",
        "\n",
        "Question 12: How do sets handle duplicate values in Python?  \n",
        "\n",
        "Answer: Sets automatically remove duplicates—each element is unique.\n",
        "\n",
        "\n",
        "Question 13: Describe a scenario where using a tuple would be preferable over a list.  \n",
        "\n",
        "Answer: When storing fixed data like coordinates `(x, y)` or constant values that shouldn't change.\n",
        "\n",
        "\n",
        "Question 14: How does the “in” keyword work differently for lists and dictionaries?\n",
        "\n",
        "Answer:  \n",
        "In lists: checks if a value exists  \n",
        "In dictionaries: checks if a key exists\n",
        "\n",
        "\n",
        "Question 15: Can you modify the elements of a tuple? Explain why or why not?\n",
        "\n",
        "Answer: No, because tuples are immutable and cannot be changed after creation.\n",
        "\n",
        "\n",
        "Question 16: What is a nested dictionary, and give an example of its use case?  \n",
        "\n",
        "Answer: A dictionary inside another dictionary.  \n",
        "Example: `student = {\"name\": \"Nida\", \"marks\": {\"math\": 90, \"science\": 85}}`\n",
        "\n",
        "\n",
        "Question 17: Describe the time complexity of accessing elements in a dictionary.\n",
        "\n",
        "Answer: Accessing elements in a dictionary is usually O(1) (constant time).\n",
        "\n",
        "\n",
        "Question 18: In what situations are lists preferred over dictionaries?\n",
        "\n",
        "Answer: When order matters or when storing simple sequences without key-value pairs.\n",
        "\n",
        "\n",
        "Question 19: Why are dictionaries considered unordered, and how does that affect data retrieval?  \n",
        "\n",
        "Answer: Dictionaries don’t maintain order by default, so you access data by key, not position.\n",
        "\n",
        "\n",
        "Question 20: Explain the difference between a list and a dictionary in terms of data retrieval.\n",
        "\n",
        "Answer:  \n",
        "List: access by index  \n",
        "Dictionary: access by key"
      ],
      "metadata": {
        "id": "5u2H4nfkfP0i"
      }
    },
    {
      "cell_type": "code",
      "execution_count": 1,
      "metadata": {
        "colab": {
          "base_uri": "https://localhost:8080/"
        },
        "id": "O1MTdloJdPi3",
        "outputId": "07daf4c7-121c-4928-d2b9-226984018c39"
      },
      "outputs": [
        {
          "output_type": "stream",
          "name": "stdout",
          "text": [
            "Nida Smair Surve\n"
          ]
        }
      ],
      "source": [
        "#Question 1\n",
        "#Write a code to create a string with your name and print it.\n",
        "\n",
        "First_name = \"Nida\"\n",
        "Middle_name = \"Smair\"\n",
        "Last_name = \"Surve\"\n",
        "print(First_name,Middle_name,Last_name)"
      ]
    },
    {
      "cell_type": "code",
      "source": [
        "#Question 2\n",
        "#Write a code to find the length of the string \"Hello World\"\n",
        "\n",
        "given_text = \"Hello World\"\n",
        "length_of_the_text = len(given_text)\n",
        "print(length_of_the_text)"
      ],
      "metadata": {
        "colab": {
          "base_uri": "https://localhost:8080/"
        },
        "id": "Ps19rT5NmXLO",
        "outputId": "06dbfba2-8069-450d-bd1f-76ffd9cedb47"
      },
      "execution_count": 2,
      "outputs": [
        {
          "output_type": "stream",
          "name": "stdout",
          "text": [
            "11\n"
          ]
        }
      ]
    },
    {
      "cell_type": "code",
      "source": [
        "#Question 3\n",
        "#Write a code to slice the first 3 characters from the string \"Python Programming\"\n",
        "\n",
        "given_text = \"Python Programming\"\n",
        "sliced_text = given_text[:3]\n",
        "print(sliced_text)"
      ],
      "metadata": {
        "colab": {
          "base_uri": "https://localhost:8080/"
        },
        "id": "UK8-s_GRm7WL",
        "outputId": "6283604e-d593-409d-ff71-e7c6b95c2860"
      },
      "execution_count": 3,
      "outputs": [
        {
          "output_type": "stream",
          "name": "stdout",
          "text": [
            "Pyt\n"
          ]
        }
      ]
    },
    {
      "cell_type": "code",
      "source": [
        "#Question 4\n",
        "#Write a code to convert the string \"hello\" to uppercase\n",
        "\n",
        "given_text = \"hello\"\n",
        "uppercase_text = given_text.upper()\n",
        "print(uppercase_text)"
      ],
      "metadata": {
        "colab": {
          "base_uri": "https://localhost:8080/"
        },
        "id": "I0uSXSvBnK1Z",
        "outputId": "ad7282a0-b238-4fb1-b0fb-bd421674d28e"
      },
      "execution_count": 4,
      "outputs": [
        {
          "output_type": "stream",
          "name": "stdout",
          "text": [
            "HELLO\n"
          ]
        }
      ]
    },
    {
      "cell_type": "code",
      "source": [
        "#Question 5\n",
        "#Write a code to replace the word \"apple\" with \"orange\" in the string \"I like apple\".\n",
        "\n",
        "given_text = \"I like apple\"\n",
        "replaced_text = given_text.replace(\"apple\", \"orange\")\n",
        "print(replaced_text)"
      ],
      "metadata": {
        "colab": {
          "base_uri": "https://localhost:8080/"
        },
        "id": "PolHKsBpnYHw",
        "outputId": "2692cdd1-8128-4c9b-a7dd-eb3ff0eb97de"
      },
      "execution_count": 5,
      "outputs": [
        {
          "output_type": "stream",
          "name": "stdout",
          "text": [
            "I like orange\n"
          ]
        }
      ]
    },
    {
      "cell_type": "code",
      "source": [
        "#Question 6\n",
        "#Write a code to create a list with numbers 1 to 5 and print it.\n",
        "\n",
        "my_list = [1, 2, 3, 4, 5]\n",
        "print(my_list)"
      ],
      "metadata": {
        "colab": {
          "base_uri": "https://localhost:8080/"
        },
        "id": "ZEPIQJyJnrZk",
        "outputId": "158e5b22-e241-48cd-9f41-227a065cf292"
      },
      "execution_count": 6,
      "outputs": [
        {
          "output_type": "stream",
          "name": "stdout",
          "text": [
            "[1, 2, 3, 4, 5]\n"
          ]
        }
      ]
    },
    {
      "cell_type": "code",
      "source": [
        "#Question 7\n",
        "#Write a code to append the number 10 to the list [1, 2, 3, 4].\n",
        "\n",
        "my_list = [1, 2, 3, 4]\n",
        "my_list.append(10)\n",
        "print(my_list)"
      ],
      "metadata": {
        "colab": {
          "base_uri": "https://localhost:8080/"
        },
        "id": "P-rKJJmin9Gu",
        "outputId": "d71f6ae9-8fa4-4ea2-98ed-e102b48a6772"
      },
      "execution_count": 7,
      "outputs": [
        {
          "output_type": "stream",
          "name": "stdout",
          "text": [
            "[1, 2, 3, 4, 10]\n"
          ]
        }
      ]
    },
    {
      "cell_type": "code",
      "source": [
        "#Question 8\n",
        "#Write a code to remove the number 3 from the list [1, 2, 3, 4, 5]\n",
        "\n",
        "my_list = [1, 2, 3, 4, 5]\n",
        "my_list.remove(3)\n",
        "print(my_list)"
      ],
      "metadata": {
        "colab": {
          "base_uri": "https://localhost:8080/"
        },
        "id": "Y7i74_RkoKnA",
        "outputId": "a7ee981b-3abd-48d7-a391-2e4c0c82b8db"
      },
      "execution_count": 8,
      "outputs": [
        {
          "output_type": "stream",
          "name": "stdout",
          "text": [
            "[1, 2, 4, 5]\n"
          ]
        }
      ]
    },
    {
      "cell_type": "code",
      "source": [
        "#Question 9\n",
        "#Write a code to access the second element in the list ['a', 'b', 'c', 'd'].\n",
        "\n",
        "my_list = ['a', 'b', 'c', 'd']\n",
        "second_element = my_list[1]\n",
        "print(second_element)"
      ],
      "metadata": {
        "colab": {
          "base_uri": "https://localhost:8080/"
        },
        "id": "WYbq8CGBoWZA",
        "outputId": "7f42f00c-36db-4b0a-e182-49ff2b8a6e7f"
      },
      "execution_count": 10,
      "outputs": [
        {
          "output_type": "stream",
          "name": "stdout",
          "text": [
            "b\n"
          ]
        }
      ]
    },
    {
      "cell_type": "code",
      "source": [
        "#Question 10\n",
        "#Write a code to reverse the list [10, 20, 30, 40, 50]\n",
        "\n",
        "my_list = [10,20,30,40,50]\n",
        "my_list.reverse()\n",
        "print(my_list)\n",
        "\n",
        "your_list = [10,20,30,40,50]\n",
        "reverse_your_list = your_list[::-1]\n",
        "print(reverse_your_list)\n"
      ],
      "metadata": {
        "colab": {
          "base_uri": "https://localhost:8080/"
        },
        "id": "E_rGZZgwomeH",
        "outputId": "db247fd2-9a94-41a0-82e0-039ca42c38cf"
      },
      "execution_count": 13,
      "outputs": [
        {
          "output_type": "stream",
          "name": "stdout",
          "text": [
            "[50, 40, 30, 20, 10]\n",
            "[50, 40, 30, 20, 10]\n"
          ]
        }
      ]
    }
  ]
}