{
  "nbformat": 4,
  "nbformat_minor": 0,
  "metadata": {
    "colab": {
      "provenance": [],
      "authorship_tag": "ABX9TyNQwZIaUA8kg8/y/gxTBcDp",
      "include_colab_link": true
    },
    "kernelspec": {
      "name": "python3",
      "display_name": "Python 3"
    },
    "language_info": {
      "name": "python"
    }
  },
  "cells": [
    {
      "cell_type": "markdown",
      "metadata": {
        "id": "view-in-github",
        "colab_type": "text"
      },
      "source": [
        "<a href=\"https://colab.research.google.com/github/survenida/Python/blob/main/Python_Data_Structures.ipynb\" target=\"_parent\"><img src=\"https://colab.research.google.com/assets/colab-badge.svg\" alt=\"Open In Colab\"/></a>"
      ]
    },
    {
      "cell_type": "markdown",
      "source": [
        "Question 1: What are data structures, and why are they important?\n",
        "\n",
        "Answer: Data structures organize and manage data efficiently. They help in storing, accessing, and processing data quickly.\n",
        "\n",
        "\n",
        "Question 2: Explain the difference between mutable and immutable data types with examples\n",
        "\n",
        "Answer:  \n",
        "Mutable: Can be changed (e.g., `list`, `dict`)  \n",
        "Immutable: Cannot be changed (e.g., `tuple`, `string`)\n",
        "\n",
        "\n",
        "Question 3: What are the main differences between lists and tuples in Python  \n",
        "\n",
        "Answer: Lists are mutable and slower; tuples are immutable and faster. Lists use more memory.\n",
        "\n",
        "\n",
        "Question 4: Describe how dictionaries store data.\n",
        "\n",
        "Answer: Dictionaries store data as key-value pairs using a hash table for fast access.\n",
        "\n",
        "\n",
        "Question 5: Why might you use a set instead of a list in Python?\n",
        "\n",
        "Answer: Sets remove duplicates automatically and offer faster membership checks.\n",
        "\n",
        "\n",
        "Question 6: What is a string in Python, and how is it different from a list?\n",
        "\n",
        "Answer: A string is a sequence of characters and is immutable. A list can hold different data types and is mutable.\n",
        "\n",
        "\n",
        "Question 7: How do tuples ensure data integrity in Python?  \n",
        "\n",
        "Answer: Tuples are immutable, so their values can't be changed accidentally.\n",
        "\n",
        "\n",
        "Question 8: What is a hash table, and how does it relate to dictionaries in Python?\n",
        "\n",
        "Answer: A hash table maps keys to values using a hash function. Python dictionaries use hash tables internally.\n",
        "\n",
        "\n",
        "Question 9: Can lists contain different data types in Python?\n",
        "\n",
        "Answer: Yes, lists can hold mixed data types like numbers, strings, and other lists.\n",
        "\n",
        "\n",
        "Question 10: Explain why strings are immutable in Python?  \n",
        "\n",
        "Answer: Strings are immutable to ensure consistency, security, and memory efficiency.\n",
        "\n",
        "\n",
        "Question 11: What advantages do dictionaries offer over lists for certain tasks?  \n",
        "\n",
        "Answer: Dictionaries allow fast access using keys and are better for storing structured data.\n",
        "\n",
        "\n",
        "Question 12: How do sets handle duplicate values in Python?  \n",
        "\n",
        "Answer: Sets automatically remove duplicates—each element is unique.\n",
        "\n",
        "\n",
        "Question 13: Describe a scenario where using a tuple would be preferable over a list.  \n",
        "\n",
        "Answer: When storing fixed data like coordinates `(x, y)` or constant values that shouldn't change.\n",
        "\n",
        "\n",
        "Question 14: How does the “in” keyword work differently for lists and dictionaries?\n",
        "\n",
        "Answer:  \n",
        "In lists: checks if a value exists  \n",
        "In dictionaries: checks if a key exists\n",
        "\n",
        "\n",
        "Question 15: Can you modify the elements of a tuple? Explain why or why not?\n",
        "\n",
        "Answer: No, because tuples are immutable and cannot be changed after creation.\n",
        "\n",
        "\n",
        "Question 16: What is a nested dictionary, and give an example of its use case?  \n",
        "\n",
        "Answer: A dictionary inside another dictionary.  \n",
        "Example: `student = {\"name\": \"Nida\", \"marks\": {\"math\": 90, \"science\": 85}}`\n",
        "\n",
        "\n",
        "Question 17: Describe the time complexity of accessing elements in a dictionary.\n",
        "\n",
        "Answer: Accessing elements in a dictionary is usually O(1) (constant time).\n",
        "\n",
        "\n",
        "Question 18: In what situations are lists preferred over dictionaries?\n",
        "\n",
        "Answer: When order matters or when storing simple sequences without key-value pairs.\n",
        "\n",
        "\n",
        "Question 19: Why are dictionaries considered unordered, and how does that affect data retrieval?  \n",
        "\n",
        "Answer: Dictionaries don’t maintain order by default, so you access data by key, not position.\n",
        "\n",
        "\n",
        "Question 20: Explain the difference between a list and a dictionary in terms of data retrieval.\n",
        "\n",
        "Answer:  \n",
        "List: access by index  \n",
        "Dictionary: access by key"
      ],
      "metadata": {
        "id": "5u2H4nfkfP0i"
      }
    },
    {
      "cell_type": "code",
      "execution_count": null,
      "metadata": {
        "colab": {
          "base_uri": "https://localhost:8080/"
        },
        "id": "O1MTdloJdPi3",
        "outputId": "07daf4c7-121c-4928-d2b9-226984018c39"
      },
      "outputs": [
        {
          "output_type": "stream",
          "name": "stdout",
          "text": [
            "Nida Smair Surve\n"
          ]
        }
      ],
      "source": [
        "#Question 1\n",
        "#Write a code to create a string with your name and print it.\n",
        "\n",
        "First_name = \"Nida\"\n",
        "Middle_name = \"Smair\"\n",
        "Last_name = \"Surve\"\n",
        "print(First_name,Middle_name,Last_name)"
      ]
    },
    {
      "cell_type": "code",
      "source": [
        "#Question 2\n",
        "#Write a code to find the length of the string \"Hello World\"\n",
        "\n",
        "given_text = \"Hello World\"\n",
        "length_of_the_text = len(given_text)\n",
        "print(length_of_the_text)"
      ],
      "metadata": {
        "colab": {
          "base_uri": "https://localhost:8080/"
        },
        "id": "Ps19rT5NmXLO",
        "outputId": "06dbfba2-8069-450d-bd1f-76ffd9cedb47"
      },
      "execution_count": null,
      "outputs": [
        {
          "output_type": "stream",
          "name": "stdout",
          "text": [
            "11\n"
          ]
        }
      ]
    },
    {
      "cell_type": "code",
      "source": [
        "#Question 3\n",
        "#Write a code to slice the first 3 characters from the string \"Python Programming\"\n",
        "\n",
        "given_text = \"Python Programming\"\n",
        "sliced_text = given_text[:3]\n",
        "print(sliced_text)"
      ],
      "metadata": {
        "colab": {
          "base_uri": "https://localhost:8080/"
        },
        "id": "UK8-s_GRm7WL",
        "outputId": "6283604e-d593-409d-ff71-e7c6b95c2860"
      },
      "execution_count": null,
      "outputs": [
        {
          "output_type": "stream",
          "name": "stdout",
          "text": [
            "Pyt\n"
          ]
        }
      ]
    },
    {
      "cell_type": "code",
      "source": [
        "#Question 4\n",
        "#Write a code to convert the string \"hello\" to uppercase\n",
        "\n",
        "given_text = \"hello\"\n",
        "uppercase_text = given_text.upper()\n",
        "print(uppercase_text)"
      ],
      "metadata": {
        "colab": {
          "base_uri": "https://localhost:8080/"
        },
        "id": "I0uSXSvBnK1Z",
        "outputId": "ad7282a0-b238-4fb1-b0fb-bd421674d28e"
      },
      "execution_count": null,
      "outputs": [
        {
          "output_type": "stream",
          "name": "stdout",
          "text": [
            "HELLO\n"
          ]
        }
      ]
    },
    {
      "cell_type": "code",
      "source": [
        "#Question 5\n",
        "#Write a code to replace the word \"apple\" with \"orange\" in the string \"I like apple\".\n",
        "\n",
        "given_text = \"I like apple\"\n",
        "replaced_text = given_text.replace(\"apple\", \"orange\")\n",
        "print(replaced_text)"
      ],
      "metadata": {
        "colab": {
          "base_uri": "https://localhost:8080/"
        },
        "id": "PolHKsBpnYHw",
        "outputId": "2692cdd1-8128-4c9b-a7dd-eb3ff0eb97de"
      },
      "execution_count": null,
      "outputs": [
        {
          "output_type": "stream",
          "name": "stdout",
          "text": [
            "I like orange\n"
          ]
        }
      ]
    },
    {
      "cell_type": "code",
      "source": [
        "#Question 6\n",
        "#Write a code to create a list with numbers 1 to 5 and print it.\n",
        "\n",
        "my_list = [1, 2, 3, 4, 5]\n",
        "print(my_list)"
      ],
      "metadata": {
        "colab": {
          "base_uri": "https://localhost:8080/"
        },
        "id": "ZEPIQJyJnrZk",
        "outputId": "158e5b22-e241-48cd-9f41-227a065cf292"
      },
      "execution_count": null,
      "outputs": [
        {
          "output_type": "stream",
          "name": "stdout",
          "text": [
            "[1, 2, 3, 4, 5]\n"
          ]
        }
      ]
    },
    {
      "cell_type": "code",
      "source": [
        "#Question 7\n",
        "#Write a code to append the number 10 to the list [1, 2, 3, 4].\n",
        "\n",
        "my_list = [1, 2, 3, 4]\n",
        "my_list.append(10)\n",
        "print(my_list)"
      ],
      "metadata": {
        "colab": {
          "base_uri": "https://localhost:8080/"
        },
        "id": "P-rKJJmin9Gu",
        "outputId": "d71f6ae9-8fa4-4ea2-98ed-e102b48a6772"
      },
      "execution_count": null,
      "outputs": [
        {
          "output_type": "stream",
          "name": "stdout",
          "text": [
            "[1, 2, 3, 4, 10]\n"
          ]
        }
      ]
    },
    {
      "cell_type": "code",
      "source": [
        "#Question 8\n",
        "#Write a code to remove the number 3 from the list [1, 2, 3, 4, 5]\n",
        "\n",
        "my_list = [1, 2, 3, 4, 5]\n",
        "my_list.remove(3)\n",
        "print(my_list)"
      ],
      "metadata": {
        "colab": {
          "base_uri": "https://localhost:8080/"
        },
        "id": "Y7i74_RkoKnA",
        "outputId": "a7ee981b-3abd-48d7-a391-2e4c0c82b8db"
      },
      "execution_count": null,
      "outputs": [
        {
          "output_type": "stream",
          "name": "stdout",
          "text": [
            "[1, 2, 4, 5]\n"
          ]
        }
      ]
    },
    {
      "cell_type": "code",
      "source": [
        "#Question 9\n",
        "#Write a code to access the second element in the list ['a', 'b', 'c', 'd'].\n",
        "\n",
        "my_list = ['a', 'b', 'c', 'd']\n",
        "second_element = my_list[1]\n",
        "print(second_element)"
      ],
      "metadata": {
        "colab": {
          "base_uri": "https://localhost:8080/"
        },
        "id": "WYbq8CGBoWZA",
        "outputId": "7f42f00c-36db-4b0a-e182-49ff2b8a6e7f"
      },
      "execution_count": null,
      "outputs": [
        {
          "output_type": "stream",
          "name": "stdout",
          "text": [
            "b\n"
          ]
        }
      ]
    },
    {
      "cell_type": "code",
      "source": [
        "#Question 10\n",
        "#Write a code to reverse the list [10, 20, 30, 40, 50]\n",
        "\n",
        "my_list = [10,20,30,40,50]\n",
        "my_list.reverse()\n",
        "print(my_list)\n",
        "\n",
        "your_list = [10,20,30,40,50]\n",
        "reverse_your_list = your_list[::-1]\n",
        "print(reverse_your_list)\n"
      ],
      "metadata": {
        "colab": {
          "base_uri": "https://localhost:8080/"
        },
        "id": "E_rGZZgwomeH",
        "outputId": "db247fd2-9a94-41a0-82e0-039ca42c38cf"
      },
      "execution_count": null,
      "outputs": [
        {
          "output_type": "stream",
          "name": "stdout",
          "text": [
            "[50, 40, 30, 20, 10]\n",
            "[50, 40, 30, 20, 10]\n"
          ]
        }
      ]
    },
    {
      "cell_type": "code",
      "source": [
        "#Question 11\n",
        "#Write a code to create a tuple with the elements 100, 200, 300 and print it.\n",
        "\n",
        "my_tuple = (100, 200, 300)\n",
        "print(my_tuple)"
      ],
      "metadata": {
        "colab": {
          "base_uri": "https://localhost:8080/"
        },
        "id": "Wx9_telKX5B4",
        "outputId": "580f1d7b-cb6b-44b4-dd73-693863e00867"
      },
      "execution_count": 1,
      "outputs": [
        {
          "output_type": "stream",
          "name": "stdout",
          "text": [
            "(100, 200, 300)\n"
          ]
        }
      ]
    },
    {
      "cell_type": "code",
      "source": [
        "#Question 12\n",
        "# Write a code to access the second-to-last element of the tuple ('red', 'green', 'blue', 'yellow').\n",
        "\n",
        "my_tuple = ('red', 'green', 'blue', 'yellow')\n",
        "second_to_last_element = my_tuple[-2]\n",
        "print(second_to_last_element)"
      ],
      "metadata": {
        "colab": {
          "base_uri": "https://localhost:8080/"
        },
        "id": "sSN_DBB7YG-E",
        "outputId": "18c83f4a-e2bf-4e95-a748-fcd1cd3cee96"
      },
      "execution_count": 2,
      "outputs": [
        {
          "output_type": "stream",
          "name": "stdout",
          "text": [
            "blue\n"
          ]
        }
      ]
    },
    {
      "cell_type": "code",
      "source": [
        "#Question 13\n",
        "# Write a code to find the minimum number in the tuple (10, 20, 5, 15).\n",
        "\n",
        "my_tuple = (10, 20, 5, 15)\n",
        "minimum_number = min(my_tuple)\n",
        "print(minimum_number)"
      ],
      "metadata": {
        "colab": {
          "base_uri": "https://localhost:8080/"
        },
        "id": "IppyfSwpYVXG",
        "outputId": "0763f353-29d5-44d6-e263-0a9c632bc8a4"
      },
      "execution_count": 3,
      "outputs": [
        {
          "output_type": "stream",
          "name": "stdout",
          "text": [
            "5\n"
          ]
        }
      ]
    },
    {
      "cell_type": "code",
      "source": [
        "#Question 14\n",
        "# Write a code to find the index of the element \"cat\" in the tuple ('dog', 'cat', 'rabbit').\n",
        "\n",
        "my_tuple = ('dog', 'cat', 'rabbit')\n",
        "index_of_cat = my_tuple.index('cat')\n",
        "print(index_of_cat)"
      ],
      "metadata": {
        "colab": {
          "base_uri": "https://localhost:8080/"
        },
        "id": "nknYHcDZYh1Q",
        "outputId": "c4fd95e0-6941-4dde-9bcc-68834cd24ce7"
      },
      "execution_count": 4,
      "outputs": [
        {
          "output_type": "stream",
          "name": "stdout",
          "text": [
            "1\n"
          ]
        }
      ]
    },
    {
      "cell_type": "code",
      "source": [
        "#Question 15\n",
        "#Write a code to create a tuple containing three different fruits and check if \"kiwi\" is in it.\n",
        "\n",
        "my_tuple = ('apple', 'banana', 'cherry')\n",
        "is_kiwi_in_tuple = 'kiwi' in my_tuple\n",
        "print(is_kiwi_in_tuple)"
      ],
      "metadata": {
        "colab": {
          "base_uri": "https://localhost:8080/"
        },
        "id": "eVTqdt5DYrpQ",
        "outputId": "833680bf-d4ed-4fd3-da68-c61dd9ddb6d8"
      },
      "execution_count": 5,
      "outputs": [
        {
          "output_type": "stream",
          "name": "stdout",
          "text": [
            "False\n"
          ]
        }
      ]
    },
    {
      "cell_type": "code",
      "source": [
        "#Question 16\n",
        "#Write a code to create a set with the elements 'a', 'b', 'c' and print it.\n",
        "\n",
        "my_set = {'a', 'b', 'c'}\n",
        "print(my_set)"
      ],
      "metadata": {
        "colab": {
          "base_uri": "https://localhost:8080/"
        },
        "id": "NRCryASbY1Ca",
        "outputId": "2837b155-ef24-48be-d7b3-717ef27fb3ff"
      },
      "execution_count": 7,
      "outputs": [
        {
          "output_type": "stream",
          "name": "stdout",
          "text": [
            "{'c', 'b', 'a'}\n"
          ]
        }
      ]
    },
    {
      "cell_type": "code",
      "source": [
        "#Question 17\n",
        "# Write a code to clear all elements from the set {1, 2, 3, 4, 5}.\n",
        "\n",
        "my_set = {1, 2, 3, 4, 5}\n",
        "my_set.clear()\n",
        "print(my_set)\n"
      ],
      "metadata": {
        "colab": {
          "base_uri": "https://localhost:8080/"
        },
        "id": "T-Dnr1LyZJIR",
        "outputId": "4697eae6-deaa-476a-b820-62b8dfac244d"
      },
      "execution_count": 9,
      "outputs": [
        {
          "output_type": "stream",
          "name": "stdout",
          "text": [
            "set()\n"
          ]
        }
      ]
    },
    {
      "cell_type": "code",
      "source": [
        "# Question 18\n",
        "#  Write a code to remove the element 4 from the set {1, 2, 3, 4}.\n",
        "\n",
        "my_set = {1, 2, 3, 4}\n",
        "my_set.remove(4)\n",
        "print(my_set)"
      ],
      "metadata": {
        "colab": {
          "base_uri": "https://localhost:8080/"
        },
        "id": "5swT9v_dZUyQ",
        "outputId": "b6c955cd-86f3-483c-d8ae-fd57f0eb96ed"
      },
      "execution_count": 10,
      "outputs": [
        {
          "output_type": "stream",
          "name": "stdout",
          "text": [
            "{1, 2, 3}\n"
          ]
        }
      ]
    },
    {
      "cell_type": "code",
      "source": [
        "#Question 19\n",
        "# Write a code to find the union of two sets {1, 2, 3} and {3, 4, 5}.\n",
        "\n",
        "set1 = {1, 2, 3}\n",
        "set2 = {3, 4, 5}\n",
        "union_set = set1.union(set2)\n",
        "print(union_set)"
      ],
      "metadata": {
        "colab": {
          "base_uri": "https://localhost:8080/"
        },
        "id": "FPcI9Fk3Zd3V",
        "outputId": "6bc51f04-f4f3-45c3-9085-25931f4fad63"
      },
      "execution_count": 11,
      "outputs": [
        {
          "output_type": "stream",
          "name": "stdout",
          "text": [
            "{1, 2, 3, 4, 5}\n"
          ]
        }
      ]
    },
    {
      "cell_type": "code",
      "source": [
        "#Question 20\n",
        "# Write a code to find the intersection of two sets {1, 2, 3} and {2, 3, 4}.\n",
        "\n",
        "set1 = {1, 2, 3}\n",
        "set2 = {2, 3, 4}\n",
        "intersection_set = set1.intersection(set2)\n",
        "print(intersection_set)"
      ],
      "metadata": {
        "colab": {
          "base_uri": "https://localhost:8080/"
        },
        "id": "gZRYZaLZZlxR",
        "outputId": "9f5f6e09-3e2f-4885-e835-d21fcd48b73e"
      },
      "execution_count": 12,
      "outputs": [
        {
          "output_type": "stream",
          "name": "stdout",
          "text": [
            "{2, 3}\n"
          ]
        }
      ]
    },
    {
      "cell_type": "code",
      "source": [
        "#Question 21\n",
        "# Write a code to create a dictionary with the keys \"name\", \"age\", and \"city\", and print it.\n",
        "\n",
        "my_dict = {\"name\": \"Nida\", \"age\": 22, \"city\": \"Kathmandu\"}\n",
        "print(my_dict)"
      ],
      "metadata": {
        "colab": {
          "base_uri": "https://localhost:8080/"
        },
        "id": "Gx2yLxvEZyPu",
        "outputId": "fa1009d5-8b8d-4650-883e-69d5350eb57f"
      },
      "execution_count": 13,
      "outputs": [
        {
          "output_type": "stream",
          "name": "stdout",
          "text": [
            "{'name': 'Nida', 'age': 22, 'city': 'Kathmandu'}\n"
          ]
        }
      ]
    },
    {
      "cell_type": "code",
      "source": [
        "#Question 22\n",
        "#Write a code to add a new key-value pair \"country\": \"USA\" to the dictionary {'name': 'John', 'age': 25}.\n",
        "\n",
        "person = {'name': 'John', 'age': 25}\n",
        "person['country'] = 'USA'\n",
        "print(person)"
      ],
      "metadata": {
        "colab": {
          "base_uri": "https://localhost:8080/"
        },
        "id": "bcUyn1i7Z6AR",
        "outputId": "160daf57-ab01-4ea2-8ccf-5e7b16798d59"
      },
      "execution_count": 14,
      "outputs": [
        {
          "output_type": "stream",
          "name": "stdout",
          "text": [
            "{'name': 'John', 'age': 25, 'country': 'USA'}\n"
          ]
        }
      ]
    },
    {
      "cell_type": "code",
      "source": [
        "#Qyestion 23\n",
        "# Write a code to access the value associated with the key \"name\" in the dictionary {'name': 'Alice', 'age': 30}.\n",
        "\n",
        "person = {'name': 'Alice', 'age': 30}\n",
        "name_value = person['name']\n",
        "print(name_value)"
      ],
      "metadata": {
        "colab": {
          "base_uri": "https://localhost:8080/"
        },
        "id": "vFvM1euwaKkD",
        "outputId": "f118b05f-0c8b-4c8a-f2e4-ec631dfb69d9"
      },
      "execution_count": 15,
      "outputs": [
        {
          "output_type": "stream",
          "name": "stdout",
          "text": [
            "Alice\n"
          ]
        }
      ]
    },
    {
      "cell_type": "code",
      "source": [
        "#Question 24\n",
        "# Write a code to remove the key \"age\" from the dictionary {'name': 'Bob', 'age': 22, 'city': 'New York'}.\n",
        "\n",
        "person = {'name': 'Bob', 'age': 22, 'city': 'New York'}\n",
        "del person['age']\n",
        "print(person)"
      ],
      "metadata": {
        "colab": {
          "base_uri": "https://localhost:8080/"
        },
        "id": "rw3Y6bg5aUcW",
        "outputId": "a848972d-1d40-449b-f6ca-f3e4e30d090b"
      },
      "execution_count": 16,
      "outputs": [
        {
          "output_type": "stream",
          "name": "stdout",
          "text": [
            "{'name': 'Bob', 'city': 'New York'}\n"
          ]
        }
      ]
    },
    {
      "cell_type": "code",
      "source": [
        "#Question 25\n",
        "#Write a code to check if the key \"city\" exists in the dictionary {'name': 'Alice', 'city': 'Paris'}.\n",
        "\n",
        "person = {'name': 'Alice', 'city': 'Paris'}\n",
        "city_exists = 'city' in person\n",
        "print(city_exists)"
      ],
      "metadata": {
        "colab": {
          "base_uri": "https://localhost:8080/"
        },
        "id": "egj-bZyaacES",
        "outputId": "d9899b7d-5366-42c2-f9fb-305285d1e225"
      },
      "execution_count": 17,
      "outputs": [
        {
          "output_type": "stream",
          "name": "stdout",
          "text": [
            "True\n"
          ]
        }
      ]
    },
    {
      "cell_type": "code",
      "source": [
        "#Question 26\n",
        "#Write a code to create a list, a tuple, and a dictionary, and print them all.\n",
        "\n",
        "my_list = [1, 2, 3]\n",
        "my_tuple = (4, 5, 6)\n",
        "my_dict = {'a': 1, 'b': 2, 'c': 3}\n",
        "print(my_list)\n",
        "print(my_tuple)\n",
        "print(my_dict)"
      ],
      "metadata": {
        "colab": {
          "base_uri": "https://localhost:8080/"
        },
        "id": "BJTVgmQBarVu",
        "outputId": "dc838eb8-f078-4927-8f95-2668a8a3930e"
      },
      "execution_count": 20,
      "outputs": [
        {
          "output_type": "stream",
          "name": "stdout",
          "text": [
            "[1, 2, 3]\n",
            "(4, 5, 6)\n",
            "{'a': 1, 'b': 2, 'c': 3}\n"
          ]
        }
      ]
    },
    {
      "cell_type": "code",
      "source": [
        "#Question 27\n",
        "# Write a code to create a list of 5 random numbers between 1 and 100, sort it in ascending order, and print the result.(replaced).\n",
        "\n",
        "import random\n",
        "nums = random.sample(range(1, 101), 5)\n",
        "nums.sort()\n",
        "print(nums)"
      ],
      "metadata": {
        "colab": {
          "base_uri": "https://localhost:8080/"
        },
        "id": "ABCNXKSJa811",
        "outputId": "dbe45569-b19a-4e51-fc6d-8148f499755e"
      },
      "execution_count": 21,
      "outputs": [
        {
          "output_type": "stream",
          "name": "stdout",
          "text": [
            "[15, 27, 35, 44, 90]\n"
          ]
        }
      ]
    },
    {
      "cell_type": "code",
      "source": [
        "#Question 28\n",
        "# Write a code to create a list with strings and print the element at the third index.\n",
        "\n",
        "my_list = ['apple', 'banana', 'cherry', 'date', 'elderberry']\n",
        "third_element = my_list[3]\n",
        "print(third_element)"
      ],
      "metadata": {
        "colab": {
          "base_uri": "https://localhost:8080/"
        },
        "id": "W-z8HX6ObR3_",
        "outputId": "fcdd0dbc-6ec0-401a-c1c8-4215707f9ebe"
      },
      "execution_count": 23,
      "outputs": [
        {
          "output_type": "stream",
          "name": "stdout",
          "text": [
            "date\n"
          ]
        }
      ]
    },
    {
      "cell_type": "code",
      "source": [
        "#Question 29\n",
        "# Write a code to combine two dictionaries into one and print the result.\n",
        "\n",
        "my_dict1 = {'a': 1, 'b': 2}\n",
        "my_dict2 = {'c': 3, 'd': 4}\n",
        "combined = {**my_dict1, **my_dict2}\n",
        "print(combined)"
      ],
      "metadata": {
        "colab": {
          "base_uri": "https://localhost:8080/"
        },
        "id": "I-JXiaGmbk4q",
        "outputId": "566d30b9-e398-4478-ee4d-faf35b8d55da"
      },
      "execution_count": 26,
      "outputs": [
        {
          "output_type": "stream",
          "name": "stdout",
          "text": [
            "{'a': 1, 'b': 2, 'c': 3, 'd': 4}\n"
          ]
        }
      ]
    },
    {
      "cell_type": "code",
      "source": [
        "#Question 30\n",
        "# Write a code to convert a list of strings into a set.\n",
        "\n",
        "my_list = ['apple', 'banana', 'cherry', 'apple', 'banana']\n",
        "my_set = set(my_list)\n",
        "print(my_set)\n",
        "#"
      ],
      "metadata": {
        "colab": {
          "base_uri": "https://localhost:8080/"
        },
        "id": "VtfWiprLb61A",
        "outputId": "a31e4231-f63b-4a4d-ac39-0c870b46617b"
      },
      "execution_count": 27,
      "outputs": [
        {
          "output_type": "stream",
          "name": "stdout",
          "text": [
            "{'apple', 'banana', 'cherry'}\n"
          ]
        }
      ]
    }
  ]
}